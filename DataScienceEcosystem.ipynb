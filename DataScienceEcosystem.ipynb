{
 "cells": [
  {
   "cell_type": "markdown",
   "id": "fc37ec3b",
   "metadata": {},
   "source": [
    "# Data Science Tools and Ecosystem"
   ]
  },
  {
   "cell_type": "markdown",
   "id": "b885674e",
   "metadata": {},
   "source": [
    "### En este notebook, se resumen las herramientas y el ecosistema de la Ciencia de Datos."
   ]
  },
  {
   "cell_type": "markdown",
   "id": "bf4c5989-730c-441d-b3ac-bd65e0fbcfa2",
   "metadata": {},
   "source": [
    "**Objetivos**  \n",
    "* Listar lenguajes populares para la Ciencia de Datos  \n",
    "* Listar Bibliotecas populares para la Ciencia de Datos\n",
    "* Evaluar expresiones aritméticas en Python\n"
   ]
  },
  {
   "cell_type": "markdown",
   "id": "7858b5fa",
   "metadata": {},
   "source": [
    "### Algunos de los lenguajes populares que usan los Científicos de Datos son:  \n",
    "\n",
    "1. Python  \n",
    "2. R  \n",
    "3. SQL"
   ]
  },
  {
   "cell_type": "markdown",
   "id": "61dfa83b",
   "metadata": {},
   "source": [
    "### Algunas de las bibliotecas comúnmente utilizadas por los Científicos de Datos incluyen:  \n",
    "  \n",
    "1-Pandas  \n",
    "2-NumPy  \n",
    "3-Matplotlib  \n",
    "4-Seaborn\n",
    "5-scikit-learn"
   ]
  },
  {
   "cell_type": "markdown",
   "id": "c69e0fc0-447e-4620-8ba2-f71cede6a1f3",
   "metadata": {},
   "source": [
    "| Data Science Tools |\n",
    "|--------------------|\n",
    "| Jupyter Notebooks  |  \n",
    "| RStudio            |\n",
    "| Apache Spark       |\n"
   ]
  },
  {
   "cell_type": "markdown",
   "id": "ad685386-c41a-4323-aaf0-f331a3bf10a2",
   "metadata": {},
   "source": [
    "### A continuación, algunos ejemplos de cómo evaluar expresiones aritméticas en Python."
   ]
  },
  {
   "cell_type": "code",
   "execution_count": 49,
   "id": "251d8908-9c7d-4120-97bc-c941093c742d",
   "metadata": {},
   "outputs": [
    {
     "data": {
      "text/plain": [
       "17"
      ]
     },
     "execution_count": 49,
     "metadata": {},
     "output_type": "execute_result"
    }
   ],
   "source": [
    "#Esta es una expresión aritmética simple para multiplicar y luego sumar enteros\n",
    "(3*4)+5"
   ]
  },
  {
   "cell_type": "code",
   "execution_count": 51,
   "id": "f28b5794-985b-4680-a49d-1ec98107b4b8",
   "metadata": {},
   "outputs": [
    {
     "name": "stdout",
     "output_type": "stream",
     "text": [
      "3.3333333333333335 hrs\n"
     ]
    }
   ],
   "source": [
    "#Esto convertirá 200 minutos a horas dividiendo por 60\n",
    "#1 hora son 60 minutos\n",
    "a= (200/60) \n",
    "print (a, \"hrs\")"
   ]
  },
  {
   "cell_type": "markdown",
   "id": "d3384333-a380-4769-9b4e-4e68fdab5131",
   "metadata": {},
   "source": [
    "## Autor \n",
    "## Ronald Fernandez\n"
   ]
  }
 ],
 "metadata": {
  "kernelspec": {
   "display_name": "Python [conda env:base] *",
   "language": "python",
   "name": "conda-base-py"
  },
  "language_info": {
   "codemirror_mode": {
    "name": "ipython",
    "version": 3
   },
   "file_extension": ".py",
   "mimetype": "text/x-python",
   "name": "python",
   "nbconvert_exporter": "python",
   "pygments_lexer": "ipython3",
   "version": "3.12.7"
  }
 },
 "nbformat": 4,
 "nbformat_minor": 5
}
